{
 "cells": [
  {
   "cell_type": "code",
   "execution_count": 10,
   "metadata": {},
   "outputs": [],
   "source": [
    "import matplotlib.pyplot as plt\n",
    "import numpy as np\n",
    "import json\n",
    "import re"
   ]
  },
  {
   "cell_type": "code",
   "execution_count": 11,
   "metadata": {},
   "outputs": [],
   "source": [
    "def get_train_rewards(npz_files):\n",
    "    x = dict()\n",
    "    for npz_filename in npz_files:\n",
    "        x.update(dict(np.load(npz_filename)))\n",
    "    return x"
   ]
  },
  {
   "cell_type": "code",
   "execution_count": 36,
   "metadata": {},
   "outputs": [],
   "source": [
    "#x = get_train_rewards([\"results/rewards/rewards_orig.npz\", \"results/rewards/rewards5.npz\", \"results/rewards/rewards6.npz\", \"results/rewards/rewards9.npz\"])"
   ]
  },
  {
   "cell_type": "code",
   "execution_count": 40,
   "metadata": {},
   "outputs": [],
   "source": [
    "\"\"\"\n",
    "Used to combine the data since temperature was not included in the keys\n",
    "x = get_train_rewards([\"results/rewards/rewards_orig.npz\", \"results/rewards/rewards5.npz\", \"results/rewards/rewards6.npz\", \"results/rewards/rewards9.npz\"])\n",
    "new_x = dict()\n",
    "for key, value in x.items():\n",
    "    data = json.loads(key)\n",
    "    data['temperature'] = 1.0\n",
    "    new_x[re.sub(r\"\\s\", \"\", json.dumps(data, sort_keys=True))] = value\n",
    "x = get_train_rewards([\"results/rewards/rewards7.npz\"])\n",
    "for key, value in x.items():\n",
    "    data = json.loads(key)\n",
    "    data['temperature'] = 2.0\n",
    "    new_x[re.sub(r\"\\s\", \"\", json.dumps(data, sort_keys=True))] = value\n",
    "x = get_train_rewards([\"results/rewards/rewards8.npz\"])\n",
    "for key, value in x.items():\n",
    "    data = json.loads(key)\n",
    "    data['temperature'] = 0.5\n",
    "    new_x[re.sub(r\"\\s\", \"\", json.dumps(data, sort_keys=True))] = value\n",
    "\"\"\""
   ]
  },
  {
   "cell_type": "code",
   "execution_count": 42,
   "metadata": {},
   "outputs": [],
   "source": [
    "np.savez(\"results/rewards/rewards_combined.npz\", **new_x)"
   ]
  },
  {
   "cell_type": "code",
   "execution_count": 12,
   "metadata": {},
   "outputs": [],
   "source": [
    "#x = get_train_rewards([\"results/rewards/rewards_combined.npz\"])\n",
    "x = get_train_rewards([\"rewards1.npz\"])"
   ]
  },
  {
   "cell_type": "code",
   "execution_count": 30,
   "metadata": {},
   "outputs": [
    {
     "data": {
      "image/png": "[encoded data removed]",
      "text/plain": [
       "<Figure size 1440x720 with 1 Axes>"
      ]
     },
     "metadata": {
      "needs_background": "light"
     },
     "output_type": "display_data"
    }
   ],
   "source": [
    "\n",
    "def moving_average(a, n):\n",
    "    ret = np.cumsum(a, dtype=float)\n",
    "    ret[n:] = ret[n:] - ret[:-n]\n",
    "    return ret[n - 1:] / n\n",
    "plt.figure(figsize=(20,10))\n",
    "for key in x.keys():\n",
    "    f = json.loads(key)\n",
    "    data = np.mean(x[key], axis=0)\n",
    "    #data = x[key][5, :]\n",
    "    #print(x[key][:, 0])\n",
    "    avg = moving_average(data, 100)\n",
    "    temp = f.get('temperature') if f.get('temperature') is not None else 1\n",
    "    epsilon = \"\" if f.get(\"epsilon\") is None else r\", $\\epsilon=%.2f$\"%f.get(\"epsilon\")\n",
    "    label = \"%s: $\\\\alpha=%.2f$, $\\\\gamma=%.3f$, $\\\\mathrm{init}_{\\\\mathrm{Q}}=%d$, $T=%.2f$%s\" % (f['agent'], f['alpha'], f['gamma'], f['init_Q'], f['temperature'], epsilon) \n",
    "    #if f['agent'] == 'R':\n",
    "    plt.plot(np.arange(avg.shape[0]), avg, label=label)\n",
    "plt.xlabel(\"Episode\")\n",
    "\n",
    "plt.ylabel(\"-Reward\")\n",
    "plt.title(\"%s Training Rewards\" % f['environment'])\n",
    "plt.legend()\n",
    "plt.show()\n"
   ]
  },
  {
   "cell_type": "code",
   "execution_count": 28,
   "metadata": {},
   "outputs": [
    {
     "name": "stdout",
     "output_type": "stream",
     "text": [
      "[-200. -200. -200. -200. -200.]\n"
     ]
    }
   ],
   "source": [
    "test_rewards = np.load(\"test_rewards1.npz\")\n",
    "bellman = test_rewards[list(test_rewards)[0]]\n",
    "#consistent_bellman = test_rewards[list(test_rewards)[1]]\n",
    "#rso = test_rewards[list(test_rewards)[2]]\n",
    "for arr in [bellman, consistent_bellman, rso][:1]:\n",
    "    print(np.mean(arr, axis=1))"
   ]
  },
  {
   "cell_type": "code",
   "execution_count": 6,
   "metadata": {},
   "outputs": [
    {
     "name": "stdout",
     "output_type": "stream",
     "text": [
      "(1000,)\n"
     ]
    }
   ],
   "source": [
    "print(data.shape)"
   ]
  },
  {
   "cell_type": "code",
   "execution_count": 25,
   "metadata": {},
   "outputs": [],
   "source": [
    "qtable = np.load(\"qvalues1.npz\")"
   ]
  },
  {
   "cell_type": "code",
   "execution_count": 26,
   "metadata": {},
   "outputs": [
    {
     "name": "stdout",
     "output_type": "stream",
     "text": [
      "(5, 1600, 3)\n"
     ]
    }
   ],
   "source": [
    "print(qtable[list(qtable.keys())[0]].shape)"
   ]
  },
  {
   "cell_type": "code",
   "execution_count": null,
   "metadata": {},
   "outputs": [
    {
     "ename": "KeyboardInterrupt",
     "evalue": "",
     "output_type": "error",
     "traceback": [
      "\u001b[1;31m---------------------------------------------------------------------------\u001b[0m",
      "\u001b[1;31mKeyboardInterrupt\u001b[0m                         Traceback (most recent call last)",
      "\u001b[1;32m_ctypes/callbacks.c\u001b[0m in \u001b[0;36m'calling callback function'\u001b[1;34m()\u001b[0m\n",
      "\u001b[1;32mC:\\Users\\fromt\\.conda\\envs\\tf2.0\\lib\\site-packages\\pyglet\\window\\win32\\__init__.py\u001b[0m in \u001b[0;36mf\u001b[1;34m(hwnd, msg, wParam, lParam)\u001b[0m\n\u001b[0;32m    632\u001b[0m \u001b[1;33m\u001b[0m\u001b[0m\n\u001b[0;32m    633\u001b[0m     \u001b[1;32mdef\u001b[0m \u001b[0m_get_window_proc\u001b[0m\u001b[1;33m(\u001b[0m\u001b[0mself\u001b[0m\u001b[1;33m,\u001b[0m \u001b[0mevent_handlers\u001b[0m\u001b[1;33m)\u001b[0m\u001b[1;33m:\u001b[0m\u001b[1;33m\u001b[0m\u001b[1;33m\u001b[0m\u001b[0m\n\u001b[1;32m--> 634\u001b[1;33m         \u001b[1;32mdef\u001b[0m \u001b[0mf\u001b[0m\u001b[1;33m(\u001b[0m\u001b[0mhwnd\u001b[0m\u001b[1;33m,\u001b[0m \u001b[0mmsg\u001b[0m\u001b[1;33m,\u001b[0m \u001b[0mwParam\u001b[0m\u001b[1;33m,\u001b[0m \u001b[0mlParam\u001b[0m\u001b[1;33m)\u001b[0m\u001b[1;33m:\u001b[0m\u001b[1;33m\u001b[0m\u001b[1;33m\u001b[0m\u001b[0m\n\u001b[0m\u001b[0;32m    635\u001b[0m             \u001b[0mevent_handler\u001b[0m \u001b[1;33m=\u001b[0m \u001b[0mevent_handlers\u001b[0m\u001b[1;33m.\u001b[0m\u001b[0mget\u001b[0m\u001b[1;33m(\u001b[0m\u001b[0mmsg\u001b[0m\u001b[1;33m,\u001b[0m \u001b[1;32mNone\u001b[0m\u001b[1;33m)\u001b[0m\u001b[1;33m\u001b[0m\u001b[1;33m\u001b[0m\u001b[0m\n\u001b[0;32m    636\u001b[0m             \u001b[0mresult\u001b[0m \u001b[1;33m=\u001b[0m \u001b[1;32mNone\u001b[0m\u001b[1;33m\u001b[0m\u001b[1;33m\u001b[0m\u001b[0m\n",
      "\u001b[1;31mKeyboardInterrupt\u001b[0m: "
     ]
    }
   ],
   "source": [
    "import gym\n",
    "import script\n",
    "env = gym.make(\"LunarLander-v2\")\n",
    "qtable = np.load(\"qvalues.npz\")\n",
    "qtable = qtable[list(qtable.keys())[0]][0]\n",
    "done = False\n",
    "state = env.reset()\n",
    "lunar_state_space = list(range(4**6 * 4))\n",
    "max_steps = 200\n",
    "lunar_discretization = script.Discretization(lunar_state_space, [np.array([-np.inf, -0.5, 0, 0.5, np.inf]) for i in range(6)] + [np.array([-0.1, 0.1, 1.5]) for i in range(2)])\n",
    "the_state = env.reset()\n",
    "total_reward = 0\n",
    "for j in range(max_steps):\n",
    "    env.render()\n",
    "    discrete_state = lunar_discretization(the_state)\n",
    "    #action = agent.decide(discrete_state)\n",
    "    action = list(range(4))[np.argmax(qtable[discrete_state, :])]   # Greedy\n",
    "    next_state, reward, done, info = env.step(action)\n",
    "    discrete_next_state = lunar_discretization(next_state)\n",
    "    total_reward += reward\n",
    "    the_state = next_state\n",
    "    if done:\n",
    "        break\n",
    "print(total_reward)"
   ]
  },
  {
   "cell_type": "code",
   "execution_count": 31,
   "metadata": {},
   "outputs": [
    {
     "name": "stdout",
     "output_type": "stream",
     "text": [
      "['{\"agent\":\"B\",\"alpha\":0.01,\"environment\":\"MountainCar-v0\",\"epsilon\":null,\"gamma\":0.999,\"init_Q\":-50,\"temperature\":1}']\n"
     ]
    }
   ],
   "source": [
    "print(list(qtable.keys()))"
   ]
  },
  {
   "cell_type": "code",
   "execution_count": null,
   "metadata": {},
   "outputs": [],
   "source": []
  }
 ],
 "metadata": {
  "kernelspec": {
   "display_name": "Python 3",
   "language": "python",
   "name": "python3"
  },
  "language_info": {
   "codemirror_mode": {
    "name": "ipython",
    "version": 3
   },
   "file_extension": ".py",
   "mimetype": "text/x-python",
   "name": "python",
   "nbconvert_exporter": "python",
   "pygments_lexer": "ipython3",
   "version": "3.7.4"
  }
 },
 "nbformat": 4,
 "nbformat_minor": 2
}
